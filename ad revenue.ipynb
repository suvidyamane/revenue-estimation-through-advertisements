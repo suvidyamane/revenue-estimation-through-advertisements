{
 "cells": [
  {
   "cell_type": "code",
   "execution_count": 1,
   "id": "500e4878",
   "metadata": {},
   "outputs": [],
   "source": [
    "import numpy as np\n",
    "import pandas as pd\n",
    "import matplotlib.pyplot as plt\n",
    "from matplotlib.legend_handler import HandlerLine2D\n",
    "from sklearn.model_selection import train_test_split\n",
    "from sklearn.metrics import mean_squared_error, r2_score\n",
    "from sklearn.ensemble import GradientBoostingRegressor"
   ]
  },
  {
   "cell_type": "code",
   "execution_count": 2,
   "id": "26d97860",
   "metadata": {},
   "outputs": [],
   "source": [
    "# Reading dataset\n",
    "\n",
    "df_train = pd.read_csv('Train_data.csv')\n",
    "df_test = pd.read_csv('Test_data.csv')"
   ]
  },
  {
   "cell_type": "code",
   "execution_count": 3,
   "id": "7a141989",
   "metadata": {},
   "outputs": [
    {
     "data": {
      "text/html": [
       "<div>\n",
       "<style scoped>\n",
       "    .dataframe tbody tr th:only-of-type {\n",
       "        vertical-align: middle;\n",
       "    }\n",
       "\n",
       "    .dataframe tbody tr th {\n",
       "        vertical-align: top;\n",
       "    }\n",
       "\n",
       "    .dataframe thead th {\n",
       "        text-align: right;\n",
       "    }\n",
       "</style>\n",
       "<table border=\"1\" class=\"dataframe\">\n",
       "  <thead>\n",
       "    <tr style=\"text-align: right;\">\n",
       "      <th></th>\n",
       "      <th>date</th>\n",
       "      <th>campaign</th>\n",
       "      <th>adgroup</th>\n",
       "      <th>ad</th>\n",
       "      <th>impressions</th>\n",
       "      <th>clicks</th>\n",
       "      <th>cost</th>\n",
       "      <th>conversions</th>\n",
       "      <th>revenue</th>\n",
       "    </tr>\n",
       "  </thead>\n",
       "  <tbody>\n",
       "    <tr>\n",
       "      <th>0</th>\n",
       "      <td>01-08-2020</td>\n",
       "      <td>campaign 1</td>\n",
       "      <td>adgroup 1</td>\n",
       "      <td>ad 1</td>\n",
       "      <td>24</td>\n",
       "      <td>6</td>\n",
       "      <td>0.08</td>\n",
       "      <td>0</td>\n",
       "      <td>0.00</td>\n",
       "    </tr>\n",
       "    <tr>\n",
       "      <th>1</th>\n",
       "      <td>01-08-2020</td>\n",
       "      <td>campaign 1</td>\n",
       "      <td>adgroup 2</td>\n",
       "      <td>ad 1</td>\n",
       "      <td>1</td>\n",
       "      <td>0</td>\n",
       "      <td>0.00</td>\n",
       "      <td>0</td>\n",
       "      <td>0.00</td>\n",
       "    </tr>\n",
       "    <tr>\n",
       "      <th>2</th>\n",
       "      <td>01-08-2020</td>\n",
       "      <td>campaign 1</td>\n",
       "      <td>adgroup 3</td>\n",
       "      <td>ad 1</td>\n",
       "      <td>13</td>\n",
       "      <td>4</td>\n",
       "      <td>0.04</td>\n",
       "      <td>0</td>\n",
       "      <td>0.00</td>\n",
       "    </tr>\n",
       "    <tr>\n",
       "      <th>3</th>\n",
       "      <td>01-08-2020</td>\n",
       "      <td>campaign 1</td>\n",
       "      <td>adgroup 4</td>\n",
       "      <td>ad 1</td>\n",
       "      <td>5</td>\n",
       "      <td>4</td>\n",
       "      <td>0.08</td>\n",
       "      <td>0</td>\n",
       "      <td>0.00</td>\n",
       "    </tr>\n",
       "    <tr>\n",
       "      <th>4</th>\n",
       "      <td>01-08-2020</td>\n",
       "      <td>campaign 1</td>\n",
       "      <td>adgroup 1</td>\n",
       "      <td>ad 2</td>\n",
       "      <td>247</td>\n",
       "      <td>126</td>\n",
       "      <td>1.29</td>\n",
       "      <td>4</td>\n",
       "      <td>925.71</td>\n",
       "    </tr>\n",
       "    <tr>\n",
       "      <th>5</th>\n",
       "      <td>01-08-2020</td>\n",
       "      <td>campaign 1</td>\n",
       "      <td>adgroup 2</td>\n",
       "      <td>ad 2</td>\n",
       "      <td>7</td>\n",
       "      <td>2</td>\n",
       "      <td>0.04</td>\n",
       "      <td>0</td>\n",
       "      <td>0.00</td>\n",
       "    </tr>\n",
       "    <tr>\n",
       "      <th>6</th>\n",
       "      <td>01-08-2020</td>\n",
       "      <td>campaign 1</td>\n",
       "      <td>adgroup 4</td>\n",
       "      <td>ad 2</td>\n",
       "      <td>6</td>\n",
       "      <td>3</td>\n",
       "      <td>0.05</td>\n",
       "      <td>0</td>\n",
       "      <td>0.00</td>\n",
       "    </tr>\n",
       "    <tr>\n",
       "      <th>7</th>\n",
       "      <td>01-08-2020</td>\n",
       "      <td>campaign 1</td>\n",
       "      <td>adgroup 1</td>\n",
       "      <td>ad 3</td>\n",
       "      <td>129</td>\n",
       "      <td>52</td>\n",
       "      <td>0.58</td>\n",
       "      <td>0</td>\n",
       "      <td>0.00</td>\n",
       "    </tr>\n",
       "    <tr>\n",
       "      <th>8</th>\n",
       "      <td>01-08-2020</td>\n",
       "      <td>campaign 1</td>\n",
       "      <td>adgroup 3</td>\n",
       "      <td>ad 3</td>\n",
       "      <td>104</td>\n",
       "      <td>56</td>\n",
       "      <td>0.56</td>\n",
       "      <td>0</td>\n",
       "      <td>0.00</td>\n",
       "    </tr>\n",
       "    <tr>\n",
       "      <th>9</th>\n",
       "      <td>01-08-2020</td>\n",
       "      <td>campaign 1</td>\n",
       "      <td>adgroup 4</td>\n",
       "      <td>ad 3</td>\n",
       "      <td>6</td>\n",
       "      <td>5</td>\n",
       "      <td>0.05</td>\n",
       "      <td>0</td>\n",
       "      <td>0.00</td>\n",
       "    </tr>\n",
       "    <tr>\n",
       "      <th>10</th>\n",
       "      <td>01-08-2020</td>\n",
       "      <td>campaign 1</td>\n",
       "      <td>adgroup 2</td>\n",
       "      <td>ad 3</td>\n",
       "      <td>4</td>\n",
       "      <td>0</td>\n",
       "      <td>0.00</td>\n",
       "      <td>0</td>\n",
       "      <td>0.00</td>\n",
       "    </tr>\n",
       "    <tr>\n",
       "      <th>11</th>\n",
       "      <td>01-08-2020</td>\n",
       "      <td>campaign 1</td>\n",
       "      <td>adgroup 3</td>\n",
       "      <td>ad 4</td>\n",
       "      <td>39</td>\n",
       "      <td>16</td>\n",
       "      <td>0.22</td>\n",
       "      <td>0</td>\n",
       "      <td>0.00</td>\n",
       "    </tr>\n",
       "    <tr>\n",
       "      <th>12</th>\n",
       "      <td>01-08-2020</td>\n",
       "      <td>campaign 1</td>\n",
       "      <td>adgroup 3</td>\n",
       "      <td>ad 5</td>\n",
       "      <td>17</td>\n",
       "      <td>6</td>\n",
       "      <td>0.06</td>\n",
       "      <td>0</td>\n",
       "      <td>0.00</td>\n",
       "    </tr>\n",
       "    <tr>\n",
       "      <th>13</th>\n",
       "      <td>01-08-2020</td>\n",
       "      <td>campaign 1</td>\n",
       "      <td>adgroup 3</td>\n",
       "      <td>ad 6</td>\n",
       "      <td>253</td>\n",
       "      <td>128</td>\n",
       "      <td>1.32</td>\n",
       "      <td>2</td>\n",
       "      <td>339.83</td>\n",
       "    </tr>\n",
       "    <tr>\n",
       "      <th>14</th>\n",
       "      <td>01-08-2020</td>\n",
       "      <td>campaign 1</td>\n",
       "      <td>adgroup 3</td>\n",
       "      <td>ad 7</td>\n",
       "      <td>16</td>\n",
       "      <td>6</td>\n",
       "      <td>0.07</td>\n",
       "      <td>0</td>\n",
       "      <td>0.00</td>\n",
       "    </tr>\n",
       "  </tbody>\n",
       "</table>\n",
       "</div>"
      ],
      "text/plain": [
       "          date    campaign    adgroup    ad  impressions  clicks  cost  \\\n",
       "0   01-08-2020  campaign 1  adgroup 1  ad 1           24       6  0.08   \n",
       "1   01-08-2020  campaign 1  adgroup 2  ad 1            1       0  0.00   \n",
       "2   01-08-2020  campaign 1  adgroup 3  ad 1           13       4  0.04   \n",
       "3   01-08-2020  campaign 1  adgroup 4  ad 1            5       4  0.08   \n",
       "4   01-08-2020  campaign 1  adgroup 1  ad 2          247     126  1.29   \n",
       "5   01-08-2020  campaign 1  adgroup 2  ad 2            7       2  0.04   \n",
       "6   01-08-2020  campaign 1  adgroup 4  ad 2            6       3  0.05   \n",
       "7   01-08-2020  campaign 1  adgroup 1  ad 3          129      52  0.58   \n",
       "8   01-08-2020  campaign 1  adgroup 3  ad 3          104      56  0.56   \n",
       "9   01-08-2020  campaign 1  adgroup 4  ad 3            6       5  0.05   \n",
       "10  01-08-2020  campaign 1  adgroup 2  ad 3            4       0  0.00   \n",
       "11  01-08-2020  campaign 1  adgroup 3  ad 4           39      16  0.22   \n",
       "12  01-08-2020  campaign 1  adgroup 3  ad 5           17       6  0.06   \n",
       "13  01-08-2020  campaign 1  adgroup 3  ad 6          253     128  1.32   \n",
       "14  01-08-2020  campaign 1  adgroup 3  ad 7           16       6  0.07   \n",
       "\n",
       "    conversions  revenue  \n",
       "0             0     0.00  \n",
       "1             0     0.00  \n",
       "2             0     0.00  \n",
       "3             0     0.00  \n",
       "4             4   925.71  \n",
       "5             0     0.00  \n",
       "6             0     0.00  \n",
       "7             0     0.00  \n",
       "8             0     0.00  \n",
       "9             0     0.00  \n",
       "10            0     0.00  \n",
       "11            0     0.00  \n",
       "12            0     0.00  \n",
       "13            2   339.83  \n",
       "14            0     0.00  "
      ]
     },
     "execution_count": 3,
     "metadata": {},
     "output_type": "execute_result"
    }
   ],
   "source": [
    "df_train.head(15)"
   ]
  },
  {
   "cell_type": "code",
   "execution_count": 4,
   "id": "095264a7",
   "metadata": {},
   "outputs": [
    {
     "data": {
      "text/plain": [
       "date           0\n",
       "campaign       0\n",
       "adgroup        0\n",
       "ad             0\n",
       "impressions    0\n",
       "clicks         0\n",
       "cost           0\n",
       "conversions    0\n",
       "revenue        0\n",
       "dtype: int64"
      ]
     },
     "execution_count": 4,
     "metadata": {},
     "output_type": "execute_result"
    }
   ],
   "source": [
    "df_train.isna().sum()"
   ]
  },
  {
   "cell_type": "code",
   "execution_count": 5,
   "id": "c8bd34b3",
   "metadata": {},
   "outputs": [
    {
     "name": "stdout",
     "output_type": "stream",
     "text": [
      "<class 'pandas.core.frame.DataFrame'>\n",
      "RangeIndex: 4571 entries, 0 to 4570\n",
      "Data columns (total 9 columns):\n",
      " #   Column       Non-Null Count  Dtype  \n",
      "---  ------       --------------  -----  \n",
      " 0   date         4571 non-null   object \n",
      " 1   campaign     4571 non-null   object \n",
      " 2   adgroup      4571 non-null   object \n",
      " 3   ad           4571 non-null   object \n",
      " 4   impressions  4571 non-null   int64  \n",
      " 5   clicks       4571 non-null   int64  \n",
      " 6   cost         4571 non-null   float64\n",
      " 7   conversions  4571 non-null   int64  \n",
      " 8   revenue      4571 non-null   float64\n",
      "dtypes: float64(2), int64(3), object(4)\n",
      "memory usage: 321.5+ KB\n"
     ]
    }
   ],
   "source": [
    "df_train.info()"
   ]
  },
  {
   "cell_type": "code",
   "execution_count": 6,
   "id": "0e7abce7",
   "metadata": {},
   "outputs": [],
   "source": [
    "X_train = df_train.drop(columns=['date','campaign','adgroup','ad','revenue'], axis=1)\n",
    "Y_train = df_train.revenue"
   ]
  },
  {
   "cell_type": "code",
   "execution_count": 7,
   "id": "c229fbf1",
   "metadata": {},
   "outputs": [
    {
     "data": {
      "text/html": [
       "<div>\n",
       "<style scoped>\n",
       "    .dataframe tbody tr th:only-of-type {\n",
       "        vertical-align: middle;\n",
       "    }\n",
       "\n",
       "    .dataframe tbody tr th {\n",
       "        vertical-align: top;\n",
       "    }\n",
       "\n",
       "    .dataframe thead th {\n",
       "        text-align: right;\n",
       "    }\n",
       "</style>\n",
       "<table border=\"1\" class=\"dataframe\">\n",
       "  <thead>\n",
       "    <tr style=\"text-align: right;\">\n",
       "      <th></th>\n",
       "      <th>impressions</th>\n",
       "      <th>clicks</th>\n",
       "      <th>cost</th>\n",
       "      <th>conversions</th>\n",
       "    </tr>\n",
       "  </thead>\n",
       "  <tbody>\n",
       "    <tr>\n",
       "      <th>0</th>\n",
       "      <td>24</td>\n",
       "      <td>6</td>\n",
       "      <td>0.08</td>\n",
       "      <td>0</td>\n",
       "    </tr>\n",
       "    <tr>\n",
       "      <th>1</th>\n",
       "      <td>1</td>\n",
       "      <td>0</td>\n",
       "      <td>0.00</td>\n",
       "      <td>0</td>\n",
       "    </tr>\n",
       "    <tr>\n",
       "      <th>2</th>\n",
       "      <td>13</td>\n",
       "      <td>4</td>\n",
       "      <td>0.04</td>\n",
       "      <td>0</td>\n",
       "    </tr>\n",
       "    <tr>\n",
       "      <th>3</th>\n",
       "      <td>5</td>\n",
       "      <td>4</td>\n",
       "      <td>0.08</td>\n",
       "      <td>0</td>\n",
       "    </tr>\n",
       "    <tr>\n",
       "      <th>4</th>\n",
       "      <td>247</td>\n",
       "      <td>126</td>\n",
       "      <td>1.29</td>\n",
       "      <td>4</td>\n",
       "    </tr>\n",
       "  </tbody>\n",
       "</table>\n",
       "</div>"
      ],
      "text/plain": [
       "   impressions  clicks  cost  conversions\n",
       "0           24       6  0.08            0\n",
       "1            1       0  0.00            0\n",
       "2           13       4  0.04            0\n",
       "3            5       4  0.08            0\n",
       "4          247     126  1.29            4"
      ]
     },
     "execution_count": 7,
     "metadata": {},
     "output_type": "execute_result"
    }
   ],
   "source": [
    "X_train.head()"
   ]
  },
  {
   "cell_type": "code",
   "execution_count": 8,
   "id": "4e47589f",
   "metadata": {},
   "outputs": [
    {
     "data": {
      "text/plain": [
       "0         0.00\n",
       "1         0.00\n",
       "2         0.00\n",
       "3         0.00\n",
       "4       925.71\n",
       "         ...  \n",
       "4566      0.00\n",
       "4567      0.00\n",
       "4568     93.20\n",
       "4569      0.00\n",
       "4570      0.00\n",
       "Name: revenue, Length: 4571, dtype: float64"
      ]
     },
     "execution_count": 8,
     "metadata": {},
     "output_type": "execute_result"
    }
   ],
   "source": [
    "Y_train"
   ]
  },
  {
   "cell_type": "code",
   "execution_count": 9,
   "id": "b93c4559",
   "metadata": {},
   "outputs": [
    {
     "name": "stdout",
     "output_type": "stream",
     "text": [
      "Learning_rate, Score =  (1, 0.9964758354515576)\n",
      "Learning_rate, Score =  (0.75, 0.9959030461714491)\n",
      "Learning_rate, Score =  (0.5, 0.9945803051310435)\n",
      "Learning_rate, Score =  (0.25, 0.9911894257399301)\n",
      "Learning_rate, Score =  (0.1, 0.9860293664181222)\n",
      "Learning_rate, Score =  (0.05, 0.981784820165735)\n",
      "Learning_rate, Score =  (0.01, 0.8316171263659629)\n"
     ]
    }
   ],
   "source": [
    "learning_rates = [1, 0.75, 0.5, 0.25, 0.1, 0.05, 0.01]\n",
    "train_error = []\n",
    "for eta in learning_rates:\n",
    "    model = GradientBoostingRegressor(learning_rate=eta)\n",
    "    model.fit(X_train, Y_train)\n",
    "    score = model.score(X_train,Y_train)\n",
    "    Y_pred = model.predict(X_train)\n",
    "    train_error.append(mean_squared_error(Y_train, Y_pred))\n",
    "    print('Learning_rate, Score = ', (eta,  score))"
   ]
  },
  {
   "cell_type": "code",
   "execution_count": 10,
   "id": "7ed0b9ac",
   "metadata": {},
   "outputs": [
    {
     "data": {
      "image/png": "[encoded data removed]",
      "text/plain": [
       "<Figure size 432x288 with 1 Axes>"
      ]
     },
     "metadata": {
      "needs_background": "light"
     },
     "output_type": "display_data"
    }
   ],
   "source": [
    "line1, = plt.plot(learning_rates, train_error, 'g', label=\"Training data MSE\")\n",
    "plt.legend(handler_map={line1: HandlerLine2D(numpoints=2)})\n",
    "plt.ylabel('Mean Squared Error')\n",
    "plt.xlabel('Learning Rate')\n",
    "plt.show()"
   ]
  },
  {
   "cell_type": "code",
   "execution_count": 11,
   "id": "76275d75",
   "metadata": {},
   "outputs": [
    {
     "name": "stdout",
     "output_type": "stream",
     "text": [
      "No. of estimators , Score =  (1, 0.18003810340870274)\n",
      "No. of estimators , Score =  (2, 0.32608463490915984)\n",
      "No. of estimators , Score =  (4, 0.5414104248064093)\n",
      "No. of estimators , Score =  (8, 0.7802059049610226)\n",
      "No. of estimators , Score =  (10, 0.8437115412678609)\n",
      "No. of estimators , Score =  (20, 0.9581139816826252)\n",
      "No. of estimators , Score =  (50, 0.9819213978239578)\n",
      "No. of estimators , Score =  (100, 0.9860293664181222)\n",
      "No. of estimators , Score =  (200, 0.9897318082193204)\n"
     ]
    }
   ],
   "source": [
    "n_estimators = [ 1, 2, 4, 8, 10, 20, 50, 100, 200 ]\n",
    "train_error = []\n",
    "for estimator in n_estimators:\n",
    "    model = GradientBoostingRegressor(n_estimators=estimator)\n",
    "    model.fit(X_train, Y_train)\n",
    "    score = model.score(X_train,Y_train)\n",
    "    Y_pred = model.predict(X_train)\n",
    "    train_error.append(mean_squared_error(Y_train, Y_pred))\n",
    "    print('No. of estimators , Score = ', (estimator,  score))"
   ]
  },
  {
   "cell_type": "code",
   "execution_count": 12,
   "id": "3ac8954d",
   "metadata": {},
   "outputs": [
    {
     "data": {
      "image/png": "[encoded data removed]",
      "text/plain": [
       "<Figure size 432x288 with 1 Axes>"
      ]
     },
     "metadata": {
      "needs_background": "light"
     },
     "output_type": "display_data"
    }
   ],
   "source": [
    "line1, = plt.plot(n_estimators, train_error, 'g', label=\"Training data MSE\")\n",
    "plt.legend(handler_map={line1: HandlerLine2D(numpoints=2)})\n",
    "plt.ylabel('Mean Squared Error')\n",
    "plt.xlabel('Number of Estimators')\n",
    "plt.show()"
   ]
  },
  {
   "cell_type": "code",
   "execution_count": 13,
   "id": "3099315c",
   "metadata": {},
   "outputs": [
    {
     "name": "stdout",
     "output_type": "stream",
     "text": [
      "Minimum_sample_split , Score =  (2, 0.9860293664181222)\n",
      "Minimum_sample_split , Score =  (3, 0.9859513533395192)\n",
      "Minimum_sample_split , Score =  (4, 0.985975927868806)\n",
      "Minimum_sample_split , Score =  (5, 0.9859483218481307)\n",
      "Minimum_sample_split , Score =  (6, 0.9858290049921394)\n",
      "Minimum_sample_split , Score =  (7, 0.9857126156664556)\n",
      "Minimum_sample_split , Score =  (8, 0.9854100233603935)\n",
      "Minimum_sample_split , Score =  (9, 0.9852832363534056)\n",
      "Minimum_sample_split , Score =  (10, 0.9851934958298026)\n"
     ]
    }
   ],
   "source": [
    "min_samples_splits=[2,3,4,5,6,7,8,9,10]\n",
    "train_error = []\n",
    "for mss in min_samples_splits:\n",
    "    model = GradientBoostingRegressor(min_samples_split=mss)\n",
    "    model.fit(X_train, Y_train)\n",
    "    score = model.score(X_train,Y_train)\n",
    "    Y_pred = model.predict(X_train)\n",
    "    train_error.append(mean_squared_error(Y_train, Y_pred))\n",
    "    print('Minimum_sample_split , Score = ', (mss,  score))"
   ]
  },
  {
   "cell_type": "code",
   "execution_count": 14,
   "id": "3ff069d7",
   "metadata": {},
   "outputs": [
    {
     "data": {
      "image/png": "[encoded data removed]",
      "text/plain": [
       "<Figure size 432x288 with 1 Axes>"
      ]
     },
     "metadata": {
      "needs_background": "light"
     },
     "output_type": "display_data"
    }
   ],
   "source": [
    "line1, = plt.plot(min_samples_splits, train_error, 'g', label=\"Training data MSE\")\n",
    "plt.legend(handler_map={line1: HandlerLine2D(numpoints=2)})\n",
    "plt.ylabel('Mean Squared Error')\n",
    "plt.xlabel('Minimum sample split')\n",
    "plt.show()"
   ]
  },
  {
   "cell_type": "code",
   "execution_count": 15,
   "id": "3c03d90f",
   "metadata": {},
   "outputs": [
    {
     "name": "stdout",
     "output_type": "stream",
     "text": [
      "Maximum_depth , Score =  (1, 0.9638602080800277)\n",
      "Maximum_depth , Score =  (2, 0.9811342877688407)\n",
      "Maximum_depth , Score =  (4, 0.990232053989779)\n",
      "Maximum_depth , Score =  (6, 0.9952262770185067)\n",
      "Maximum_depth , Score =  (8, 0.9982078336110363)\n",
      "Maximum_depth , Score =  (10, 0.9996112512550821)\n",
      "Maximum_depth , Score =  (12, 0.999904907439143)\n",
      "Maximum_depth , Score =  (14, 0.9999788871742049)\n",
      "Maximum_depth , Score =  (16, 0.9999884792667185)\n",
      "Maximum_depth , Score =  (18, 0.9999889053200918)\n",
      "Maximum_depth , Score =  (20, 0.9999889450497105)\n"
     ]
    }
   ],
   "source": [
    "max_depths = [1,2,4,6,8,10,12,14,16,18,20]\n",
    "train_error = []\n",
    "for max_d in max_depths:\n",
    "    model = GradientBoostingRegressor(max_depth=max_d)\n",
    "    model.fit(X_train, Y_train)\n",
    "    score = model.score(X_train,Y_train)\n",
    "    Y_pred = model.predict(X_train)\n",
    "    train_error.append(mean_squared_error(Y_train, Y_pred))\n",
    "    print('Maximum_depth , Score = ', (max_d,  score))"
   ]
  },
  {
   "cell_type": "code",
   "execution_count": 16,
   "id": "647ecb54",
   "metadata": {},
   "outputs": [
    {
     "data": {
      "image/png": "[encoded data removed]",
      "text/plain": [
       "<Figure size 432x288 with 1 Axes>"
      ]
     },
     "metadata": {
      "needs_background": "light"
     },
     "output_type": "display_data"
    }
   ],
   "source": [
    "line1, = plt.plot(max_depths, train_error, 'g', label=\"Training data MSE\")\n",
    "plt.legend(handler_map={line1: HandlerLine2D(numpoints=2)})\n",
    "plt.ylabel('Mean Squared Error')\n",
    "plt.xlabel('Maximum depth')\n",
    "plt.show()"
   ]
  },
  {
   "cell_type": "code",
   "execution_count": 17,
   "id": "0304a4d4",
   "metadata": {},
   "outputs": [
    {
     "name": "stdout",
     "output_type": "stream",
     "text": [
      "Minimum sample leaf , Score =  (1, 0.9860293664181222)\n",
      "Minimum sample leaf , Score =  (2, 0.9858072889646973)\n",
      "Minimum sample leaf , Score =  (3, 0.9856530196282813)\n",
      "Minimum sample leaf , Score =  (4, 0.9844933578971956)\n",
      "Minimum sample leaf , Score =  (5, 0.9839210149793756)\n",
      "Minimum sample leaf , Score =  (6, 0.9820854998922391)\n",
      "Minimum sample leaf , Score =  (7, 0.980945043820294)\n",
      "Minimum sample leaf , Score =  (8, 0.9808844492008209)\n",
      "Minimum sample leaf , Score =  (9, 0.9802669043784863)\n",
      "Minimum sample leaf , Score =  (10, 0.9774840778477603)\n"
     ]
    }
   ],
   "source": [
    "min_samples_leafs = [1,2,3,4,5,6,7,8,9,10]\n",
    "train_error = []\n",
    "for msl in min_samples_leafs:\n",
    "    model = GradientBoostingRegressor(min_samples_leaf=msl)\n",
    "    model.fit(X_train, Y_train)\n",
    "    score = model.score(X_train,Y_train)\n",
    "    Y_pred = model.predict(X_train)\n",
    "    train_error.append(mean_squared_error(Y_train, Y_pred))\n",
    "    print('Minimum sample leaf , Score = ', (msl,  score))"
   ]
  },
  {
   "cell_type": "code",
   "execution_count": 18,
   "id": "58d05c44",
   "metadata": {},
   "outputs": [
    {
     "data": {
      "image/png": "[encoded data removed]",
      "text/plain": [
       "<Figure size 432x288 with 1 Axes>"
      ]
     },
     "metadata": {
      "needs_background": "light"
     },
     "output_type": "display_data"
    }
   ],
   "source": [
    "line1, = plt.plot(min_samples_leafs, train_error, 'g', label=\"Training data MSE\")\n",
    "plt.legend(handler_map={line1: HandlerLine2D(numpoints=2)})\n",
    "plt.ylabel('Mean Squared Error')\n",
    "plt.xlabel('No. of sample leafs')\n",
    "plt.show()"
   ]
  },
  {
   "cell_type": "code",
   "execution_count": 19,
   "id": "f7bdae03",
   "metadata": {},
   "outputs": [
    {
     "data": {
      "text/plain": [
       "GradientBoostingRegressor(learning_rate=0.25, max_depth=10, min_samples_leaf=2,\n",
       "                          n_estimators=50)"
      ]
     },
     "execution_count": 19,
     "metadata": {},
     "output_type": "execute_result"
    }
   ],
   "source": [
    "parameters = {'n_estimators':50, 'learning_rate':0.25, 'min_samples_split':2, 'min_samples_leaf':2, 'max_depth':10}\n",
    "GBR = GradientBoostingRegressor(**parameters)\n",
    "GBR.fit(X_train, Y_train)"
   ]
  },
  {
   "cell_type": "code",
   "execution_count": 20,
   "id": "8fc95870",
   "metadata": {},
   "outputs": [],
   "source": [
    "X_test = df_test.drop(columns=['date','campaign','adgroup','ad'], axis=1)\n",
    "Y_test = GBR.predict(X_test)"
   ]
  },
  {
   "cell_type": "code",
   "execution_count": 21,
   "id": "677a2582",
   "metadata": {},
   "outputs": [
    {
     "data": {
      "text/html": [
       "<div>\n",
       "<style scoped>\n",
       "    .dataframe tbody tr th:only-of-type {\n",
       "        vertical-align: middle;\n",
       "    }\n",
       "\n",
       "    .dataframe tbody tr th {\n",
       "        vertical-align: top;\n",
       "    }\n",
       "\n",
       "    .dataframe thead th {\n",
       "        text-align: right;\n",
       "    }\n",
       "</style>\n",
       "<table border=\"1\" class=\"dataframe\">\n",
       "  <thead>\n",
       "    <tr style=\"text-align: right;\">\n",
       "      <th></th>\n",
       "      <th>revenue</th>\n",
       "    </tr>\n",
       "  </thead>\n",
       "  <tbody>\n",
       "    <tr>\n",
       "      <th>0</th>\n",
       "      <td>226.420281</td>\n",
       "    </tr>\n",
       "    <tr>\n",
       "      <th>1</th>\n",
       "      <td>22.618964</td>\n",
       "    </tr>\n",
       "    <tr>\n",
       "      <th>2</th>\n",
       "      <td>1.087598</td>\n",
       "    </tr>\n",
       "    <tr>\n",
       "      <th>3</th>\n",
       "      <td>0.225301</td>\n",
       "    </tr>\n",
       "    <tr>\n",
       "      <th>4</th>\n",
       "      <td>0.225301</td>\n",
       "    </tr>\n",
       "    <tr>\n",
       "      <th>5</th>\n",
       "      <td>-1.685929</td>\n",
       "    </tr>\n",
       "    <tr>\n",
       "      <th>6</th>\n",
       "      <td>173.650984</td>\n",
       "    </tr>\n",
       "    <tr>\n",
       "      <th>7</th>\n",
       "      <td>0.035834</td>\n",
       "    </tr>\n",
       "    <tr>\n",
       "      <th>8</th>\n",
       "      <td>310.276551</td>\n",
       "    </tr>\n",
       "    <tr>\n",
       "      <th>9</th>\n",
       "      <td>-15.795699</td>\n",
       "    </tr>\n",
       "    <tr>\n",
       "      <th>10</th>\n",
       "      <td>1060.938995</td>\n",
       "    </tr>\n",
       "    <tr>\n",
       "      <th>11</th>\n",
       "      <td>4.892427</td>\n",
       "    </tr>\n",
       "    <tr>\n",
       "      <th>12</th>\n",
       "      <td>0.628845</td>\n",
       "    </tr>\n",
       "    <tr>\n",
       "      <th>13</th>\n",
       "      <td>503.571013</td>\n",
       "    </tr>\n",
       "    <tr>\n",
       "      <th>14</th>\n",
       "      <td>-1.685929</td>\n",
       "    </tr>\n",
       "  </tbody>\n",
       "</table>\n",
       "</div>"
      ],
      "text/plain": [
       "        revenue\n",
       "0    226.420281\n",
       "1     22.618964\n",
       "2      1.087598\n",
       "3      0.225301\n",
       "4      0.225301\n",
       "5     -1.685929\n",
       "6    173.650984\n",
       "7      0.035834\n",
       "8    310.276551\n",
       "9    -15.795699\n",
       "10  1060.938995\n",
       "11     4.892427\n",
       "12     0.628845\n",
       "13   503.571013\n",
       "14    -1.685929"
      ]
     },
     "execution_count": 21,
     "metadata": {},
     "output_type": "execute_result"
    }
   ],
   "source": [
    "prediction_gbr = pd.DataFrame()\n",
    "prediction_gbr['revenue'] = Y_test\n",
    "prediction_gbr.head(15)"
   ]
  },
  {
   "cell_type": "code",
   "execution_count": 22,
   "id": "8fc544d4",
   "metadata": {},
   "outputs": [],
   "source": [
    "prediction_gbr.to_csv(\"Submission_gbr.csv\", index = False)"
   ]
  }
 ],
 "metadata": {
  "kernelspec": {
   "display_name": "Python 3",
   "language": "python",
   "name": "python3"
  },
  "language_info": {
   "codemirror_mode": {
    "name": "ipython",
    "version": 3
   },
   "file_extension": ".py",
   "mimetype": "text/x-python",
   "name": "python",
   "nbconvert_exporter": "python",
   "pygments_lexer": "ipython3",
   "version": "3.8.8"
  }
 },
 "nbformat": 4,
 "nbformat_minor": 5
}
